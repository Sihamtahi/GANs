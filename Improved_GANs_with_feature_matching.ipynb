{
  "nbformat": 4,
  "nbformat_minor": 5,
  "metadata": {
    "kernelspec": {
      "display_name": "Python 3",
      "language": "python",
      "name": "python3"
    },
    "language_info": {
      "codemirror_mode": {
        "name": "ipython",
        "version": 3
      },
      "file_extension": ".py",
      "mimetype": "text/x-python",
      "name": "python",
      "nbconvert_exporter": "python",
      "pygments_lexer": "ipython3",
      "version": "3.6.9"
    },
    "colab": {
      "name": "Improved GANs with feature matching.ipynb",
      "provenance": [],
      "collapsed_sections": []
    },
    "accelerator": "GPU"
  },
  "cells": [
    {
      "cell_type": "markdown",
      "source": [
        "# Définition des modèles "
      ],
      "metadata": {
        "id": "EvPcB0ptu002"
      },
      "id": "EvPcB0ptu002"
    },
    {
      "cell_type": "code",
      "metadata": {
        "colab": {
          "base_uri": "https://localhost:8080/"
        },
        "id": "1vnQ3-UwNfaI",
        "outputId": "af014ac7-1468-4027-988f-eddeedd07094"
      },
      "source": [
        "pip install tensorboardX"
      ],
      "id": "1vnQ3-UwNfaI",
      "execution_count": null,
      "outputs": [
        {
          "output_type": "stream",
          "name": "stdout",
          "text": [
            "Collecting tensorboardX\n",
            "  Downloading tensorboardX-2.4.1-py2.py3-none-any.whl (124 kB)\n",
            "\u001b[?25l\r\u001b[K     |██▋                             | 10 kB 21.6 MB/s eta 0:00:01\r\u001b[K     |█████▎                          | 20 kB 26.1 MB/s eta 0:00:01\r\u001b[K     |███████▉                        | 30 kB 12.7 MB/s eta 0:00:01\r\u001b[K     |██████████▌                     | 40 kB 9.7 MB/s eta 0:00:01\r\u001b[K     |█████████████▏                  | 51 kB 4.7 MB/s eta 0:00:01\r\u001b[K     |███████████████▊                | 61 kB 5.5 MB/s eta 0:00:01\r\u001b[K     |██████████████████▍             | 71 kB 5.7 MB/s eta 0:00:01\r\u001b[K     |█████████████████████           | 81 kB 6.4 MB/s eta 0:00:01\r\u001b[K     |███████████████████████▋        | 92 kB 4.9 MB/s eta 0:00:01\r\u001b[K     |██████████████████████████▎     | 102 kB 5.3 MB/s eta 0:00:01\r\u001b[K     |█████████████████████████████   | 112 kB 5.3 MB/s eta 0:00:01\r\u001b[K     |███████████████████████████████▌| 122 kB 5.3 MB/s eta 0:00:01\r\u001b[K     |████████████████████████████████| 124 kB 5.3 MB/s \n",
            "\u001b[?25hRequirement already satisfied: protobuf>=3.8.0 in /usr/local/lib/python3.7/dist-packages (from tensorboardX) (3.17.3)\n",
            "Requirement already satisfied: numpy in /usr/local/lib/python3.7/dist-packages (from tensorboardX) (1.19.5)\n",
            "Requirement already satisfied: six>=1.9 in /usr/local/lib/python3.7/dist-packages (from protobuf>=3.8.0->tensorboardX) (1.15.0)\n",
            "Installing collected packages: tensorboardX\n",
            "Successfully installed tensorboardX-2.4.1\n"
          ]
        }
      ]
    },
    {
      "cell_type": "code",
      "metadata": {
        "id": "a98996ca"
      },
      "source": [
        "# Import \n",
        "import torch\n",
        "from torch.utils.data import TensorDataset\n",
        "from torchvision import datasets, transforms\n",
        "import numpy as np\n",
        "import torch\n",
        "from torch.nn.parameter import Parameter\n",
        "from torch import nn\n",
        "from torch.nn import functional as F\n",
        "from torch.autograd import Variable\n",
        "import pdb\n",
        "import torch.optim as optim\n",
        "from torch.autograd import Variable\n",
        "from torch.utils.data import DataLoader, TensorDataset\n",
        "import sys\n",
        "import tensorboardX\n",
        "import os\n"
      ],
      "id": "a98996ca",
      "execution_count": null,
      "outputs": []
    },
    {
      "cell_type": "markdown",
      "metadata": {
        "id": "cf9b3c13"
      },
      "source": [
        "## Datasets"
      ],
      "id": "cf9b3c13"
    },
    {
      "cell_type": "code",
      "metadata": {
        "id": "b0010c18"
      },
      "source": [
        "#Importation des données\n",
        "\n",
        "def mnist_with_labels(class_number):\n",
        "  \n",
        "    raw_dataset = datasets.MNIST('../data', train=True, download=True,\n",
        "                                 transform=transforms.Compose([\n",
        "                                     transforms.ToTensor(),\n",
        "                                 ]))\n",
        "    classes = [0] * 10\n",
        "    data = []\n",
        "    labels = []\n",
        "    idx = 0\n",
        "    perm = np.random.permutation(raw_dataset.__len__())\n",
        "    for i in range(raw_dataset.__len__()):\n",
        "        datum, label = raw_dataset.__getitem__(perm[i])\n",
        "        if classes[label] < class_number:\n",
        "            data.append(datum.numpy())\n",
        "            labels.append(label)\n",
        "            classes[label] += 1\n",
        "            idx += 1\n",
        "            if idx >= 10 * class_number:\n",
        "                break\n",
        "    return TensorDataset(torch.FloatTensor(np.array(data)), torch.LongTensor(np.array(labels)))\n",
        "\n",
        "def mnist_without_labels():\n",
        "    raw_dataset = datasets.MNIST('../data', train=True, download=True,\n",
        "                                 transform=transforms.Compose([\n",
        "                                     transforms.ToTensor(),\n",
        "                                 ]))\n",
        "    return raw_dataset\n",
        "\n",
        "\n",
        "def mnist_testset():\n",
        "    return datasets.MNIST('../data', train=False, download=True,\n",
        "                          transform=transforms.Compose([\n",
        "                              transforms.ToTensor(),\n",
        "                          ]))\n"
      ],
      "id": "b0010c18",
      "execution_count": null,
      "outputs": []
    },
    {
      "cell_type": "markdown",
      "metadata": {
        "id": "25e6df03"
      },
      "source": [
        "## Models"
      ],
      "id": "25e6df03"
    },
    {
      "cell_type": "code",
      "metadata": {
        "id": "00e0d234"
      },
      "source": [
        "class Discriminator(nn.Module):\n",
        "    # définition des couches du Discriminateur (5 layers)\n",
        "    def __init__(self, input_dim=28 ** 2, output_dim=10):\n",
        "        super(Discriminator, self).__init__()\n",
        "        self.input_dim = input_dim\n",
        "        self.layers = torch.nn.ModuleList([\n",
        "            LinearWeightNorm(input_dim, 1000),\n",
        "            LinearWeightNorm(1000, 500),\n",
        "            LinearWeightNorm(500, 250),\n",
        "            LinearWeightNorm(250, 250),\n",
        "            LinearWeightNorm(250, 250)]\n",
        "        )\n",
        "        self.final = LinearWeightNorm(250, output_dim, weight_scale=1)\n",
        "    # main du Discrimnateur\n",
        "    def forward(self, x, feature=False, cuda=False):\n",
        "        # reshape images\n",
        "        x = x.view(-1, self.input_dim)\n",
        "        # add gaussian noise (paper of improved GANs)\n",
        "        gaussian_noise = torch.randn(x.size()) * 0.3 if self.training else torch.Tensor([0])\n",
        "        # GPU\n",
        "        if cuda:  \n",
        "            gaussian_noise = gaussian_noise.cuda()\n",
        "        x = x + Variable(gaussian_noise, requires_grad=False)\n",
        "        # Pour chaque couche on calcule les paramètres puis on applique la Relu\n",
        "        for i in range(len(self.layers)):\n",
        "            m = self.layers[i]\n",
        "            x_f = F.relu(m(x))\n",
        "            gaussian_noise = torch.randn(x_f.size()) * 0.5 if self.training else torch.Tensor([0])\n",
        "            if cuda:\n",
        "                gaussian_noise = gaussian_noise.cuda()\n",
        "            x = (x_f + Variable(gaussian_noise, requires_grad=False))\n",
        "        if feature:\n",
        "            return x_f, self.final(x)\n",
        "        return self.final(x)\n",
        "\n",
        "\n",
        "class Generator(nn.Module):\n",
        "    # définition des couches du Génrateur (5 couches) \n",
        "    def __init__(self, z_dim, output_dim=28 ** 2):\n",
        "        super(Generator, self).__init__()\n",
        "        self.z_dim = z_dim\n",
        "        self.fc1 = nn.Linear(z_dim, 500, bias=False)\n",
        "        self.bn1 = nn.BatchNorm1d(500, affine=False, eps=1e-6, momentum=0.5)\n",
        "        self.fc2 = nn.Linear(500, 500, bias=False)\n",
        "        self.bn2 = nn.BatchNorm1d(500, affine=False, eps=1e-6, momentum=0.5)\n",
        "        self.fc3 = LinearWeightNorm(500, output_dim, weight_scale=1)\n",
        "        self.bn1_b = Parameter(torch.zeros(500))\n",
        "        self.bn2_b = Parameter(torch.zeros(500))\n",
        "        # initialize the weights of a single layer\n",
        "        nn.init.xavier_uniform(self.fc1.weight)\n",
        "        nn.init.xavier_uniform(self.fc2.weight)\n",
        "\n",
        "    def forward(self, batch_size, cuda=False):\n",
        "      # definir l'orde d'application des couches\n",
        "        x = Variable(torch.rand(batch_size, self.z_dim), requires_grad=False, volatile=not self.training)\n",
        "        if cuda:\n",
        "            x = x.cuda()\n",
        "        # calculer le softmax de la première couche suivi du BN (layer 1+2)\n",
        "        x = F.softplus(self.bn1(self.fc1(x)) + self.bn1_b)\n",
        "        # calculer le softmax de la deuxième couche suivi du BN (layer 3+4)\n",
        "        x = F.softplus(self.bn2(self.fc2(x)) + self.bn2_b)\n",
        "        # calcul du softmax de la 5ème couche\n",
        "        x = F.softplus(self.fc3(x))\n",
        "        return x\n"
      ],
      "id": "00e0d234",
      "execution_count": null,
      "outputs": []
    },
    {
      "cell_type": "markdown",
      "metadata": {
        "id": "24b2fcf2"
      },
      "source": [
        "## Utils"
      ],
      "id": "24b2fcf2"
    },
    {
      "cell_type": "code",
      "metadata": {
        "id": "1de13746"
      },
      "source": [
        "# calcul de log sum exp  (~ softmax)\n",
        "def log_sum_exp(x, axis=1):\n",
        "    m = torch.max(x, dim=1)[0]\n",
        "    return m + torch.log(torch.sum(torch.exp(x - m.unsqueeze(1)), dim=axis))\n",
        "\n",
        "\n",
        "# Redéfinition de la couche LinearWeightNorm pour modifier la sortie et ajouter des poids si nécessaire aux outputs / multiplier par des coefs\n",
        "class LinearWeightNorm(torch.nn.Module):\n",
        "    # Définition des couches \n",
        "    def __init__(self, in_features, out_features, bias=True, weight_scale=None, weight_init_stdv=0.1):\n",
        "        super(LinearWeightNorm, self).__init__()\n",
        "        self.in_features = in_features\n",
        "        self.out_features = out_features\n",
        "        self.weight = Parameter(torch.randn(out_features, in_features) * weight_init_stdv)\n",
        "        if bias:\n",
        "            self.bias = Parameter(torch.zeros(out_features))\n",
        "        else:\n",
        "            self.register_parameter('bias', None)\n",
        "        if weight_scale is not None:\n",
        "            assert type(weight_scale) == int\n",
        "            self.weight_scale = Parameter(torch.ones(out_features, 1) * weight_scale)\n",
        "        else:\n",
        "            self.weight_scale = 1\n",
        "     # ordre d'application des couches \n",
        "    def forward(self, x):\n",
        "        W = self.weight * self.weight_scale / torch.sqrt(torch.sum(self.weight ** 2, dim=1, keepdim=True))\n",
        "        return F.linear(x, W, self.bias)\n",
        "\n"
      ],
      "id": "1de13746",
      "execution_count": null,
      "outputs": []
    },
    {
      "cell_type": "markdown",
      "metadata": {
        "id": "355ce595"
      },
      "source": [
        "## Improved GAN"
      ],
      "id": "355ce595"
    },
    {
      "cell_type": "code",
      "metadata": {
        "id": "565a38f7"
      },
      "source": [
        "class ImprovedGANMNIST(object):\n",
        "    ## Initialize GAN\n",
        "    def __init__(self, G, D, labeled, unlabeled, test, args):\n",
        "        self.writer = tensorboardX.SummaryWriter(log_dir=args.logdir)\n",
        "        self.Generator = G\n",
        "        self.Discriminator = D\n",
        "        if args.cuda:\n",
        "            self.Generator.cuda()\n",
        "            self.Discriminator.cuda()\n",
        "        self.labeled = labeled\n",
        "        self.unlabeled = unlabeled\n",
        "        self.test = test\n",
        "        self.Doptim = optim.Adam(self.Discriminator.parameters(), lr=args.lr, betas=(args.momentum, 0.999))\n",
        "        self.Goptim = optim.Adam(self.Generator.parameters(), lr=args.lr, betas=(args.momentum, 0.999))\n",
        "        self.args = args\n",
        "    \n",
        "    # entrainement du discriminateur\n",
        "    def train_discriminator(self, x_label, y, x_unlabel):\n",
        "        x_label, x_unlabel, y = Variable(x_label), Variable(x_unlabel), Variable(y, requires_grad=False)\n",
        "        if self.args.cuda:\n",
        "            x_label, x_unlabel, y = x_label.cuda(), x_unlabel.cuda(), y.cuda()\n",
        "        ## \n",
        "        output_label = self.Discriminator(x_label, cuda=self.args.cuda)\n",
        "        output_unlabel =  self.Discriminator( x_unlabel,cuda=self.args.cuda)\n",
        "        output_fake = self.Discriminator(self.Generator(x_unlabel.size()[0], cuda=self.args.cuda).view(x_unlabel.size()).detach(),\n",
        "            cuda=self.args.cuda)\n",
        "        logz_label, logz_unlabel, logz_fake = log_sum_exp(output_label), log_sum_exp(output_unlabel), log_sum_exp( output_fake)\n",
        "        prob_label = torch.gather(output_label, 1, y.unsqueeze(1))\n",
        "        loss_supervised = -torch.mean(prob_label) + torch.mean(logz_label)\n",
        "        loss_unsupervised = 0.5 * (\n",
        "                -torch.mean(logz_unlabel) + torch.mean(F.softplus(logz_unlabel)) +\n",
        "                torch.mean(F.softplus(logz_fake)))\n",
        "        loss = loss_supervised + self.args.unlabel_weight * loss_unsupervised\n",
        "        # calcul de l'accuracy\n",
        "        acc = torch.mean((output_label.max(1)[1] == y).float())\n",
        "        # réinitialisation de l'optimiseur Adam\n",
        "        self.Doptim.zero_grad()\n",
        "        # calcul de la backpropagation\n",
        "        loss.backward()\n",
        "        # MAJ de l'optimiseur\n",
        "        self.Doptim.step()\n",
        "        return loss_supervised.data.cpu().numpy(), loss_unsupervised.data.cpu().numpy(), acc\n",
        "\n",
        "    # entrainement du générateur \n",
        "    def train_generator(self, x_unlabel):\n",
        "       # genrate fake images\n",
        "        fake = self.Generator(x_unlabel.size()[0], cuda=self.args.cuda).view(x_unlabel.size())\n",
        "        # classification of fake images with the discriminator\n",
        "        mom_gen, output_fake = self.Discriminator(fake, feature=True, cuda=self.args.cuda)\n",
        "        # classification of the unlabeled images with the discriminator\n",
        "        mom_unlabel, _ = self.Discriminator(Variable(x_unlabel), feature=True, cuda=self.args.cuda)\n",
        "        # calculate the average accuracy between fake and unlabeled images \n",
        "        mom_gen = torch.mean(mom_gen, dim=0)\n",
        "        mom_unlabel = torch.mean(mom_unlabel, dim=0)\n",
        "        # feature matching \n",
        "        loss_fm = torch.mean((mom_gen - mom_unlabel) ** 2)\n",
        "        loss = loss_fm\n",
        "        # réinitialisation de l'optimiseur \n",
        "        self.Goptim.zero_grad()\n",
        "        self.Doptim.zero_grad()\n",
        "        # calcul de la back propagation\n",
        "        loss.backward()\n",
        "        # Mise à jour de l'optimiseur\n",
        "        self.Goptim.step()\n",
        "        return loss.data.cpu().numpy(), fake\n",
        "\n",
        "    def train(self):\n",
        "        times = int(np.ceil(self.unlabeled.__len__() * 1. / self.labeled.__len__()))\n",
        "        t1 = self.labeled.tensors[0].clone()\n",
        "        t2 = self.labeled.tensors[1].clone()\n",
        "        tile_labeled = TensorDataset(t1.repeat(times, 1, 1, 1), t2.repeat(times))\n",
        "        gn = 0\n",
        "        fake_images_list = []\n",
        "        losses_supervised = []\n",
        "        losses_unsupervised = []\n",
        "        losses_generator = []\n",
        "        acc_list = []\n",
        "\n",
        "        for epoch in range(self.args.epochs):\n",
        "            # pour chaque epoch entrainer le générateur et le discriminateur\n",
        "            self.Generator.train()\n",
        "            self.Discriminator.train()\n",
        "            ##  iterable over a dataset\n",
        "            unlabel_loader1 = DataLoader(self.unlabeled, batch_size=self.args.batch_size, shuffle=True, drop_last=True,\n",
        "                                         num_workers=4)\n",
        "            unlabel_loader2 = DataLoader(self.unlabeled, batch_size=self.args.batch_size, shuffle=True, drop_last=True,\n",
        "                                         num_workers=4).__iter__()\n",
        "            label_loader = DataLoader(tile_labeled, batch_size=self.args.batch_size, shuffle=True, drop_last=True,\n",
        "                                      num_workers=4).__iter__()\n",
        "            loss_supervised = loss_unsupervised = loss_gen = accuracy = 0.\n",
        "            batch_num = 0\n",
        "            for (unlabel1, _label1) in unlabel_loader1:\n",
        "                batch_num += 1\n",
        "                unlabel2, _label2 = unlabel_loader2.next()\n",
        "                x, y = label_loader.next()\n",
        "                if args.cuda:\n",
        "                    x, y, unlabel1, unlabel2 = x.cuda(), y.cuda(), unlabel1.cuda(), unlabel2.cuda()\n",
        "                ll, lu, acc = self.train_discriminator(x, y, unlabel1)\n",
        "                loss_supervised += ll\n",
        "                loss_unsupervised += lu\n",
        "                accuracy += acc\n",
        "                lg, fake_images = self.train_generator(unlabel2)\n",
        "                fake_images_list.append(fake_images)\n",
        "                if epoch > 1 and lg > 1:\n",
        "                    lg, fake = self.train_generator(unlabel2)\n",
        "                loss_gen += lg\n",
        "                if (batch_num + 1) % self.args.log_interval == 0:\n",
        "                    print('Training: %d / %d' % (batch_num + 1, len(unlabel_loader1)))\n",
        "                    gn += 1\n",
        "                    self.Discriminator.train()\n",
        "                    self.Generator.train()\n",
        "            loss_supervised /= batch_num\n",
        "            loss_unsupervised /= batch_num\n",
        "            loss_gen /= batch_num\n",
        "            accuracy /= batch_num\n",
        "            print(\"Iteration %f, loss_supervised = %.4f, loss_unsupervised = %.4f, loss_gen = %.4f train acc = %.4f\" % (epoch, loss_supervised, loss_unsupervised, loss_gen, accuracy))\n",
        "            sys.stdout.flush()\n",
        "            accuracy_test = self.eval()/ self.test.__len__()\n",
        "            if (epoch + 1) % self.args.eval_interval == 0:\n",
        "                print(\"Eval: correct %d / %d\" % (self.eval(), self.test.__len__()))\n",
        "            \n",
        "            #####\n",
        "            losses_supervised.append(loss_supervised)\n",
        "            losses_unsupervised.append(loss_unsupervised)\n",
        "            losses_generator.append(loss_gen)\n",
        "            acc_list.append(accuracy_test)\n",
        "            #fake_images_list.append(fake_img)\n",
        "            #####\n",
        "        return losses_supervised, losses_unsupervised, losses_generator, acc_list, fake_images_list\n",
        "   \n",
        "\n",
        "\n",
        "    # évaluation des performances \n",
        "    def eval(self):\n",
        "        self.Generator.eval()\n",
        "        self.Discriminator.eval()\n",
        "        images = [images for images, label in self.test]\n",
        "        labels = [labels for images, labels in self.test]\n",
        "        images, labels = torch.stack(images), torch.LongTensor(labels)\n",
        "        if self.args.cuda:\n",
        "            images, labels = images.cuda(), labels.cuda()\n",
        "        with torch.no_grad():\n",
        "            pred = torch.max(self.Discriminator(Variable(images), cuda=self.args.cuda), 1)[1].data\n",
        "        return torch.sum(pred == labels)\n"
      ],
      "id": "565a38f7",
      "execution_count": null,
      "outputs": []
    },
    {
      "cell_type": "markdown",
      "source": [
        "# Entrainement"
      ],
      "metadata": {
        "id": "K_TQW4GOvKl_"
      },
      "id": "K_TQW4GOvKl_"
    },
    {
      "cell_type": "markdown",
      "metadata": {
        "id": "c649e38a"
      },
      "source": [
        "## Main "
      ],
      "id": "c649e38a"
    },
    {
      "cell_type": "code",
      "metadata": {
        "id": "87737c7d"
      },
      "source": [
        "class Arguments():\n",
        "    batch_size=100\n",
        "    epochs=10\n",
        "    lr=0.003\n",
        "    momentum=0.5\n",
        "    cuda = True\n",
        "    seed= 10\n",
        "    log_interval=100\n",
        "    eval_interval=1\n",
        "    unlabel_weight=1\n",
        "    logdir='./logs'"
      ],
      "id": "87737c7d",
      "execution_count": null,
      "outputs": []
    },
    {
      "cell_type": "code",
      "source": [
        "!pip install torch-summary"
      ],
      "metadata": {
        "colab": {
          "base_uri": "https://localhost:8080/"
        },
        "id": "7BlUZIaqgrhU",
        "outputId": "e455c092-a841-4e4d-ad88-4c4be6c784fd"
      },
      "id": "7BlUZIaqgrhU",
      "execution_count": null,
      "outputs": [
        {
          "output_type": "stream",
          "name": "stdout",
          "text": [
            "Collecting torch-summary\n",
            "  Downloading torch_summary-1.4.5-py3-none-any.whl (16 kB)\n",
            "Installing collected packages: torch-summary\n",
            "Successfully installed torch-summary-1.4.5\n"
          ]
        }
      ]
    },
    {
      "cell_type": "code",
      "source": [
        "# visualisation des couches du discrimnateur\n",
        "from torchsummary import summary\n",
        "\n",
        "model = Discriminator()\n",
        "model"
      ],
      "metadata": {
        "colab": {
          "base_uri": "https://localhost:8080/"
        },
        "id": "q4oD9kPaiF0z",
        "outputId": "e37f5bb7-579c-4dca-e25d-c7bd6d0de806"
      },
      "id": "q4oD9kPaiF0z",
      "execution_count": null,
      "outputs": [
        {
          "output_type": "execute_result",
          "data": {
            "text/plain": [
              "Discriminator(\n",
              "  (layers): ModuleList(\n",
              "    (0): LinearWeightNorm()\n",
              "    (1): LinearWeightNorm()\n",
              "    (2): LinearWeightNorm()\n",
              "    (3): LinearWeightNorm()\n",
              "    (4): LinearWeightNorm()\n",
              "  )\n",
              "  (final): LinearWeightNorm()\n",
              ")"
            ]
          },
          "metadata": {},
          "execution_count": 18
        }
      ]
    },
    {
      "cell_type": "code",
      "source": [
        "# visualisation des couches du générateur\n",
        "model = Generator(100)\n",
        "model"
      ],
      "metadata": {
        "colab": {
          "base_uri": "https://localhost:8080/"
        },
        "id": "EFV_pgZxiHOa",
        "outputId": "de234d31-7b66-47d7-afc4-de40b0a90846"
      },
      "id": "EFV_pgZxiHOa",
      "execution_count": null,
      "outputs": [
        {
          "output_type": "stream",
          "name": "stderr",
          "text": [
            "/usr/local/lib/python3.7/dist-packages/ipykernel_launcher.py:50: UserWarning: nn.init.xavier_uniform is now deprecated in favor of nn.init.xavier_uniform_.\n",
            "/usr/local/lib/python3.7/dist-packages/ipykernel_launcher.py:51: UserWarning: nn.init.xavier_uniform is now deprecated in favor of nn.init.xavier_uniform_.\n"
          ]
        },
        {
          "output_type": "execute_result",
          "data": {
            "text/plain": [
              "Generator(\n",
              "  (fc1): Linear(in_features=100, out_features=500, bias=False)\n",
              "  (bn1): BatchNorm1d(500, eps=1e-06, momentum=0.5, affine=False, track_running_stats=True)\n",
              "  (fc2): Linear(in_features=500, out_features=500, bias=False)\n",
              "  (bn2): BatchNorm1d(500, eps=1e-06, momentum=0.5, affine=False, track_running_stats=True)\n",
              "  (fc3): LinearWeightNorm()\n",
              ")"
            ]
          },
          "metadata": {},
          "execution_count": 21
        }
      ]
    },
    {
      "cell_type": "code",
      "metadata": {
        "colab": {
          "base_uri": "https://localhost:8080/"
        },
        "id": "3c37b73e",
        "outputId": "e6fac585-268a-44e0-923c-7ce300a94c8d"
      },
      "source": [
        "args = Arguments()\n",
        "args.cuda = args.cuda and torch.cuda.is_available()\n",
        "np.random.seed(args.seed)\n",
        "gan = ImprovedGANMNIST(Generator(100), Discriminator(), mnist_with_labels(10), mnist_without_labels(), mnist_testset(), args)\n",
        "losses_sup, losses_insup, losses_gen, accuracies, fake_img = gan.train()\n"
      ],
      "id": "3c37b73e",
      "execution_count": null,
      "outputs": [
        {
          "output_type": "stream",
          "name": "stderr",
          "text": [
            "/usr/local/lib/python3.7/dist-packages/ipykernel_launcher.py:49: UserWarning: nn.init.xavier_uniform is now deprecated in favor of nn.init.xavier_uniform_.\n",
            "/usr/local/lib/python3.7/dist-packages/ipykernel_launcher.py:50: UserWarning: nn.init.xavier_uniform is now deprecated in favor of nn.init.xavier_uniform_.\n",
            "/usr/local/lib/python3.7/dist-packages/torch/utils/data/dataloader.py:481: UserWarning: This DataLoader will create 4 worker processes in total. Our suggested max number of worker in current system is 2, which is smaller than what this DataLoader is going to create. Please be aware that excessive worker creation might get DataLoader running slow or even freeze, lower the worker number to avoid potential slowness/freeze if necessary.\n",
            "  cpuset_checked))\n"
          ]
        },
        {
          "output_type": "stream",
          "name": "stdout",
          "text": [
            "Training: 100 / 600\n",
            "Training: 200 / 600\n",
            "Training: 300 / 600\n",
            "Training: 400 / 600\n",
            "Training: 500 / 600\n",
            "Training: 600 / 600\n",
            "Iteration 0.000000, loss_supervised = 0.1724, loss_unsupervised = 0.4611, loss_gen = 0.1695 train acc = 0.9427\n",
            "Eval: correct 8357 / 10000\n",
            "Training: 100 / 600\n",
            "Training: 200 / 600\n",
            "Training: 300 / 600\n",
            "Training: 400 / 600\n",
            "Training: 500 / 600\n",
            "Training: 600 / 600\n",
            "Iteration 1.000000, loss_supervised = 0.0097, loss_unsupervised = 0.3797, loss_gen = 0.2604 train acc = 0.9982\n",
            "Eval: correct 8845 / 10000\n",
            "Training: 100 / 600\n",
            "Training: 200 / 600\n",
            "Training: 300 / 600\n",
            "Training: 400 / 600\n",
            "Training: 500 / 600\n",
            "Training: 600 / 600\n",
            "Iteration 2.000000, loss_supervised = 0.0062, loss_unsupervised = 0.3568, loss_gen = 0.3667 train acc = 0.9990\n",
            "Eval: correct 8990 / 10000\n",
            "Training: 100 / 600\n",
            "Training: 200 / 600\n",
            "Training: 300 / 600\n",
            "Training: 400 / 600\n",
            "Training: 500 / 600\n",
            "Training: 600 / 600\n",
            "Iteration 3.000000, loss_supervised = 0.0050, loss_unsupervised = 0.3620, loss_gen = 0.5244 train acc = 0.9994\n",
            "Eval: correct 9115 / 10000\n",
            "Training: 100 / 600\n",
            "Training: 200 / 600\n",
            "Training: 300 / 600\n",
            "Training: 400 / 600\n",
            "Training: 500 / 600\n",
            "Training: 600 / 600\n",
            "Iteration 4.000000, loss_supervised = 0.0043, loss_unsupervised = 0.3666, loss_gen = 0.6654 train acc = 0.9994\n",
            "Eval: correct 9214 / 10000\n",
            "Training: 100 / 600\n",
            "Training: 200 / 600\n",
            "Training: 300 / 600\n",
            "Training: 400 / 600\n",
            "Training: 500 / 600\n",
            "Training: 600 / 600\n",
            "Iteration 5.000000, loss_supervised = 0.0034, loss_unsupervised = 0.3683, loss_gen = 0.7798 train acc = 0.9997\n",
            "Eval: correct 9303 / 10000\n",
            "Training: 100 / 600\n",
            "Training: 200 / 600\n",
            "Training: 300 / 600\n",
            "Training: 400 / 600\n",
            "Training: 500 / 600\n",
            "Training: 600 / 600\n",
            "Iteration 6.000000, loss_supervised = 0.0031, loss_unsupervised = 0.3729, loss_gen = 0.8397 train acc = 0.9998\n",
            "Eval: correct 9459 / 10000\n",
            "Training: 100 / 600\n",
            "Training: 200 / 600\n",
            "Training: 300 / 600\n",
            "Training: 400 / 600\n",
            "Training: 500 / 600\n",
            "Training: 600 / 600\n",
            "Iteration 7.000000, loss_supervised = 0.0026, loss_unsupervised = 0.3807, loss_gen = 0.8862 train acc = 0.9998\n",
            "Eval: correct 9532 / 10000\n",
            "Training: 100 / 600\n",
            "Training: 200 / 600\n",
            "Training: 300 / 600\n",
            "Training: 400 / 600\n",
            "Training: 500 / 600\n",
            "Training: 600 / 600\n",
            "Iteration 8.000000, loss_supervised = 0.0024, loss_unsupervised = 0.3828, loss_gen = 0.9238 train acc = 0.9998\n",
            "Eval: correct 9570 / 10000\n",
            "Training: 100 / 600\n",
            "Training: 200 / 600\n",
            "Training: 300 / 600\n",
            "Training: 400 / 600\n",
            "Training: 500 / 600\n",
            "Training: 600 / 600\n",
            "Iteration 9.000000, loss_supervised = 0.0024, loss_unsupervised = 0.3830, loss_gen = 0.9425 train acc = 0.9997\n",
            "Eval: correct 9617 / 10000\n"
          ]
        }
      ]
    },
    {
      "cell_type": "markdown",
      "source": [
        "# Résultats et interprétations "
      ],
      "metadata": {
        "id": "vt7-mYLxvbsG"
      },
      "id": "vt7-mYLxvbsG"
    },
    {
      "cell_type": "markdown",
      "metadata": {
        "id": "L_VLWhF-c0kg"
      },
      "source": [
        "Visualisation des images"
      ],
      "id": "L_VLWhF-c0kg"
    },
    {
      "cell_type": "code",
      "metadata": {
        "id": "7IWDT73eNlnv"
      },
      "source": [
        "images= fake_img"
      ],
      "id": "7IWDT73eNlnv",
      "execution_count": null,
      "outputs": []
    },
    {
      "cell_type": "code",
      "metadata": {
        "colab": {
          "base_uri": "https://localhost:8080/"
        },
        "id": "Z3KZ-LHFVtdb",
        "outputId": "39023a7b-c42f-4b7a-fe0e-53e7b1d26cc1"
      },
      "source": [
        "len(images)"
      ],
      "id": "Z3KZ-LHFVtdb",
      "execution_count": null,
      "outputs": [
        {
          "output_type": "execute_result",
          "data": {
            "text/plain": [
              "6000"
            ]
          },
          "metadata": {},
          "execution_count": 23
        }
      ]
    },
    {
      "cell_type": "markdown",
      "source": [
        "First image"
      ],
      "metadata": {
        "id": "s-2GVxD_nhin"
      },
      "id": "s-2GVxD_nhin"
    },
    {
      "cell_type": "code",
      "metadata": {
        "colab": {
          "base_uri": "https://localhost:8080/"
        },
        "outputId": "d65fcdbe-e07a-496e-b470-72a0d5f2386e",
        "id": "S--nmwpgncsy"
      },
      "source": [
        "ech = images [0 :1]\n",
        "len(ech)"
      ],
      "execution_count": null,
      "outputs": [
        {
          "output_type": "execute_result",
          "data": {
            "text/plain": [
              "1"
            ]
          },
          "metadata": {},
          "execution_count": 55
        }
      ],
      "id": "S--nmwpgncsy"
    },
    {
      "cell_type": "code",
      "metadata": {
        "id": "65iTFv8uncsz"
      },
      "source": [
        "r = []\n",
        "for e in ech:\n",
        "  test1 = e.tolist()\n",
        "  r.append(test1)\n",
        "\n",
        "h = r[0][1]"
      ],
      "execution_count": null,
      "outputs": [],
      "id": "65iTFv8uncsz"
    },
    {
      "cell_type": "code",
      "metadata": {
        "colab": {
          "base_uri": "https://localhost:8080/",
          "height": 282
        },
        "outputId": "92c47c17-0aca-4c3f-be3b-5497e05c51e8",
        "id": "Kg_L9RpCncsz"
      },
      "source": [
        "import matplotlib.pyplot as plt\n",
        "import matplotlib.cm as cm\n",
        "import numpy as np\n",
        "\n",
        "plt.imsave('first.png', np.array(h).reshape(28,28), cmap=cm.gray)\n",
        "plt.imshow(np.array(h).reshape(28,28))"
      ],
      "execution_count": null,
      "outputs": [
        {
          "output_type": "execute_result",
          "data": {
            "text/plain": [
              "<matplotlib.image.AxesImage at 0x7f90704ec450>"
            ]
          },
          "metadata": {},
          "execution_count": 59
        },
        {
          "output_type": "display_data",
          "data": {
            "image/png": "[encoded data removed]",
            "text/plain": [
              "<Figure size 432x288 with 1 Axes>"
            ]
          },
          "metadata": {
            "needs_background": "light"
          }
        }
      ],
      "id": "Kg_L9RpCncsz"
    },
    {
      "cell_type": "markdown",
      "source": [
        "Last image"
      ],
      "metadata": {
        "id": "D6gFErI1neMy"
      },
      "id": "D6gFErI1neMy"
    },
    {
      "cell_type": "code",
      "metadata": {
        "colab": {
          "base_uri": "https://localhost:8080/"
        },
        "id": "k12p8oBfNauC",
        "outputId": "36439475-dc7e-4aad-bebe-3367c4e13543"
      },
      "source": [
        "ech = images [5998 :5999]\n",
        "len(ech)"
      ],
      "id": "k12p8oBfNauC",
      "execution_count": null,
      "outputs": [
        {
          "output_type": "execute_result",
          "data": {
            "text/plain": [
              "1"
            ]
          },
          "metadata": {},
          "execution_count": 65
        }
      ]
    },
    {
      "cell_type": "code",
      "metadata": {
        "id": "xoTMz1dXZZ4Q"
      },
      "source": [
        "r = []\n",
        "for e in ech:\n",
        "  test1 = e.tolist()\n",
        "  r.append(test1)\n",
        "\n",
        "h =r[0][10]"
      ],
      "id": "xoTMz1dXZZ4Q",
      "execution_count": null,
      "outputs": []
    },
    {
      "cell_type": "code",
      "metadata": {
        "colab": {
          "base_uri": "https://localhost:8080/",
          "height": 282
        },
        "id": "3LPmdvXPZ4Qq",
        "outputId": "41256467-0998-413f-8fef-593a82db09fa"
      },
      "source": [
        "import matplotlib.pyplot as plt\n",
        "import matplotlib.cm as cm\n",
        "import numpy as np\n",
        "\n",
        "plt.imsave('last.png', np.array(h).reshape(28,28), cmap=cm.gray)\n",
        "plt.imshow(np.array(h).reshape(28,28))"
      ],
      "id": "3LPmdvXPZ4Qq",
      "execution_count": null,
      "outputs": [
        {
          "output_type": "execute_result",
          "data": {
            "text/plain": [
              "<matplotlib.image.AxesImage at 0x7f90745dbe90>"
            ]
          },
          "metadata": {},
          "execution_count": 69
        },
        {
          "output_type": "display_data",
          "data": {
            "image/png": "[encoded data removed]",
            "text/plain": [
              "<Figure size 432x288 with 1 Axes>"
            ]
          },
          "metadata": {
            "needs_background": "light"
          }
        }
      ]
    },
    {
      "cell_type": "markdown",
      "source": [
        "Comme nous pouvons le constater, la première image générée est incompréhensible et ne dégage aucune information. C'est un ensemble de pixels eparpillés. La dernière image par contre représente un chiffre 8 qu'on peut lire. Cependant, la qualité de visualisation reste moyenne et ceci est du au fait qu'on a utilisé features matching. En effet, comme indiqué dans le papier l'utilisation de cette méthode donne une moins bonne qualité de visualisation comparée à la méthode minibatch discrimination.\n",
        "\n",
        "\n",
        "\n",
        "\n"
      ],
      "metadata": {
        "id": "tB1VOZmBpHx3"
      },
      "id": "tB1VOZmBpHx3"
    },
    {
      "cell_type": "markdown",
      "metadata": {
        "id": "D3K8K7NiZEHl"
      },
      "source": [
        "Plot des loss et de l'accuracy"
      ],
      "id": "D3K8K7NiZEHl"
    },
    {
      "cell_type": "code",
      "metadata": {
        "colab": {
          "base_uri": "https://localhost:8080/"
        },
        "id": "jMGi2iObO4fR",
        "outputId": "5ed76e58-dda8-4e1f-df76-a556f5ea833b"
      },
      "source": [
        "# Récupération des pourcentages des accuracy pour l'ensemble test\n",
        "a = accuracies\n",
        "liste_acc = []\n",
        "for el in a:\n",
        "  y = el.tolist()\n",
        "  num = round(y, 4)\n",
        "  num = num*100\n",
        "  num = round(num, 2)\n",
        "  liste_acc.append(num)\n",
        "  \n",
        "liste_acc"
      ],
      "id": "jMGi2iObO4fR",
      "execution_count": null,
      "outputs": [
        {
          "output_type": "execute_result",
          "data": {
            "text/plain": [
              "[83.57, 88.45, 89.9, 91.15, 92.14, 93.03, 94.59, 95.32, 95.7, 96.17]"
            ]
          },
          "metadata": {},
          "execution_count": 78
        }
      ]
    },
    {
      "cell_type": "code",
      "metadata": {
        "colab": {
          "base_uri": "https://localhost:8080/"
        },
        "id": "ERoCxBDtQtWO",
        "outputId": "9d195af0-4e85-4280-bfcf-7436adb4a3a6"
      },
      "source": [
        "# Récupération des pourcentages des loss du générateur\n",
        "liste_loss_gen = []\n",
        "for el in losses_gen:\n",
        "  num = round(el,4)\n",
        "  num = num * 100\n",
        "  num = round(num,2)\n",
        "  liste_loss_gen.append(num)\n",
        "liste_loss_gen"
      ],
      "id": "ERoCxBDtQtWO",
      "execution_count": null,
      "outputs": [
        {
          "output_type": "execute_result",
          "data": {
            "text/plain": [
              "[16.95, 26.04, 36.67, 52.44, 66.54, 77.98, 83.97, 88.62, 92.38, 94.25]"
            ]
          },
          "metadata": {},
          "execution_count": 84
        }
      ]
    },
    {
      "cell_type": "code",
      "metadata": {
        "colab": {
          "base_uri": "https://localhost:8080/"
        },
        "id": "-earD0QIQNHT",
        "outputId": "293e9c73-dc7e-4f03-cc28-8f5e6ae055aa"
      },
      "source": [
        "# Récupération des pourcentages des loss du discriminateur (supervised)\n",
        "liste_loss_sup = []\n",
        "for el in losses_sup:\n",
        "  num = round(el,4)\n",
        "  num = num*100\n",
        "  num = round(num,2)\n",
        "  liste_loss_sup.append(num)\n",
        "liste_loss_sup"
      ],
      "id": "-earD0QIQNHT",
      "execution_count": null,
      "outputs": [
        {
          "output_type": "execute_result",
          "data": {
            "text/plain": [
              "[17.24, 0.97, 0.62, 0.5, 0.43, 0.34, 0.31, 0.26, 0.24, 0.24]"
            ]
          },
          "metadata": {},
          "execution_count": 85
        }
      ]
    },
    {
      "cell_type": "code",
      "metadata": {
        "colab": {
          "base_uri": "https://localhost:8080/"
        },
        "id": "WkI8Dt6ZRViT",
        "outputId": "500188f2-f4ca-447f-c141-89b7ee96aacd"
      },
      "source": [
        "# Récupération des pourcentages des loss du discriminateur (unsupervised)\n",
        "liste_loss_unsup = []\n",
        "for el in losses_insup:\n",
        "  num = round(el,4)\n",
        "  num = num*100\n",
        "  num = round(num,2)\n",
        "  liste_loss_unsup.append(num)\n",
        "liste_loss_unsup"
      ],
      "id": "WkI8Dt6ZRViT",
      "execution_count": null,
      "outputs": [
        {
          "output_type": "execute_result",
          "data": {
            "text/plain": [
              "[46.11, 37.97, 35.68, 36.2, 36.66, 36.83, 37.29, 38.07, 38.28, 38.3]"
            ]
          },
          "metadata": {},
          "execution_count": 86
        }
      ]
    },
    {
      "cell_type": "code",
      "metadata": {
        "colab": {
          "base_uri": "https://localhost:8080/",
          "height": 312
        },
        "id": "q6EHfkeURvQU",
        "outputId": "b15dce05-661d-4ce7-85a8-b4c325e48c13"
      },
      "source": [
        "import matplotlib.pyplot as plt\n",
        " \n",
        "x = [0,1,2,3,4,5,6,7,8,9]\n",
        "# plotting the line 1 points\n",
        "plt.plot(x, liste_acc)\n",
        "# naming the x axis\n",
        "plt.xlabel('° Itération')\n",
        "# naming the y axis\n",
        "plt.ylabel('accuracy - test')\n",
        "# giving a title to my graph\n",
        "plt.title('Evolution de l\\'accuracy au cours des itérations')\n",
        "# show a legend on the plot\n",
        "plt.legend()\n",
        "# function to show the plot\n",
        "plt.show()"
      ],
      "id": "q6EHfkeURvQU",
      "execution_count": null,
      "outputs": [
        {
          "output_type": "stream",
          "name": "stderr",
          "text": [
            "No handles with labels found to put in legend.\n"
          ]
        },
        {
          "output_type": "display_data",
          "data": {
            "image/png": "[encoded data removed]",
            "text/plain": [
              "<Figure size 432x288 with 1 Axes>"
            ]
          },
          "metadata": {
            "needs_background": "light"
          }
        }
      ]
    },
    {
      "cell_type": "markdown",
      "source": [
        "Le graphe ci-dessus montre l'évolution de l'accuracy au fil des itérations. Cette dernière passe de 83% à la première epoch pour atteindre les 96% à la dernière epoch. Ceci indique que notre modèle a appris correctement à générer les images ressemblant aux images réelles de MNIST. "
      ],
      "metadata": {
        "id": "7m1FOejwtMSd"
      },
      "id": "7m1FOejwtMSd"
    },
    {
      "cell_type": "code",
      "metadata": {
        "colab": {
          "base_uri": "https://localhost:8080/",
          "height": 295
        },
        "id": "IhWuVegpRh4F",
        "outputId": "28910681-e781-4d11-8e07-29038dbdbe31"
      },
      "source": [
        "import matplotlib.pyplot as plt\n",
        "x = [0,1,2,3,4,5,6,7,8,9]\n",
        "# line 1 points\n",
        "# plotting the line 1 points\n",
        "plt.plot(x, liste_loss_gen, label = \"Generator loss\")\n",
        " \n",
        "# line 2 points\n",
        "# plotting the line 2 points\n",
        "plt.plot(x, liste_loss_sup, label = \"supervised loss\")\n",
        "\n",
        "# line 2 points\n",
        "# plotting the line 2 points\n",
        "plt.plot(x, liste_loss_unsup, label = \"unsupervised loss\")\n",
        "\n",
        "# naming the x axis\n",
        "plt.xlabel('° Itération')\n",
        "# naming the y axis\n",
        "plt.ylabel('% Loss')\n",
        "# giving a title to my graph\n",
        "plt.title('Evolution des loss au cours des itérations')\n",
        " \n",
        "# show a legend on the plot\n",
        "plt.legend()\n",
        " \n",
        "# function to show the plot\n",
        "plt.show()"
      ],
      "id": "IhWuVegpRh4F",
      "execution_count": null,
      "outputs": [
        {
          "output_type": "display_data",
          "data": {
            "image/png": "[encoded data removed]",
            "text/plain": [
              "<Figure size 432x288 with 1 Axes>"
            ]
          },
          "metadata": {
            "needs_background": "light"
          }
        }
      ]
    },
    {
      "cell_type": "markdown",
      "source": [
        "Les graphes ci-dessus montrent l'évolution des loss. Nous remarquons une baisse des loss supervised et unsipervised du discrimintauer ce qui est plutot positif car ceci prouve que ce dernier a appris à distinguer les fausses images des vraies. Cependant, la loss du générateur connait une évolution et ceci est logique car dans les GANs le générateur et le discriminateur sont en compétition et nous cherchons à minimiser la loss du discriminateur et à maximiser celle du générateur afin qu'il apprenne à mieux générer des images à travers ces pénalités. "
      ],
      "metadata": {
        "id": "fQgvlbAyt19W"
      },
      "id": "fQgvlbAyt19W"
    }
  ]
}